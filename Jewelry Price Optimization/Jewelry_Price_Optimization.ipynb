{
 "cells": [
  {
   "cell_type": "code",
   "execution_count": 1,
   "id": "eb689bf5-4b59-42b1-a6a4-3e336279c84e",
   "metadata": {},
   "outputs": [],
   "source": [
    "# import libraries\n",
    "import pandas as pd\n",
    "import numpy as np\n",
    "import matplotlib.pyplot as plt\n",
    "import seaborn as sns\n",
    "sns.set()"
   ]
  },
  {
   "cell_type": "code",
   "execution_count": 7,
   "id": "8cb94689-c857-42fc-99be-2246e104c011",
   "metadata": {},
   "outputs": [
    {
     "data": {
      "text/html": [
       "<div>\n",
       "<style scoped>\n",
       "    .dataframe tbody tr th:only-of-type {\n",
       "        vertical-align: middle;\n",
       "    }\n",
       "\n",
       "    .dataframe tbody tr th {\n",
       "        vertical-align: top;\n",
       "    }\n",
       "\n",
       "    .dataframe thead th {\n",
       "        text-align: right;\n",
       "    }\n",
       "</style>\n",
       "<table border=\"1\" class=\"dataframe\">\n",
       "  <thead>\n",
       "    <tr style=\"text-align: right;\">\n",
       "      <th></th>\n",
       "      <th>Order_Datetime</th>\n",
       "      <th>Order_ID</th>\n",
       "      <th>Product_ID</th>\n",
       "      <th>SKU_Quantity</th>\n",
       "      <th>Category_ID</th>\n",
       "      <th>Category</th>\n",
       "      <th>Brand_ID</th>\n",
       "      <th>USD_Price</th>\n",
       "      <th>User_ID</th>\n",
       "      <th>Target_Gender</th>\n",
       "      <th>Main_Color</th>\n",
       "      <th>Main_Metal</th>\n",
       "      <th>Main_Gem</th>\n",
       "    </tr>\n",
       "  </thead>\n",
       "  <tbody>\n",
       "    <tr>\n",
       "      <th>0</th>\n",
       "      <td>2018-12-01 17:38:31 UTC</td>\n",
       "      <td>1924899396621697920</td>\n",
       "      <td>1806829193678291446</td>\n",
       "      <td>1</td>\n",
       "      <td>1.806829e+18</td>\n",
       "      <td>NaN</td>\n",
       "      <td>NaN</td>\n",
       "      <td>212.14</td>\n",
       "      <td>1.515916e+18</td>\n",
       "      <td>NaN</td>\n",
       "      <td>yellow</td>\n",
       "      <td>gold</td>\n",
       "      <td>NaN</td>\n",
       "    </tr>\n",
       "    <tr>\n",
       "      <th>1</th>\n",
       "      <td>2018-12-02 13:53:42 UTC</td>\n",
       "      <td>1925511016616034733</td>\n",
       "      <td>1842214461889315556</td>\n",
       "      <td>1</td>\n",
       "      <td>1.806829e+18</td>\n",
       "      <td>jewelry.pendant</td>\n",
       "      <td>1.0</td>\n",
       "      <td>54.66</td>\n",
       "      <td>1.515916e+18</td>\n",
       "      <td>f</td>\n",
       "      <td>white</td>\n",
       "      <td>gold</td>\n",
       "      <td>sapphire</td>\n",
       "    </tr>\n",
       "    <tr>\n",
       "      <th>2</th>\n",
       "      <td>2018-12-02 17:44:02 UTC</td>\n",
       "      <td>1925626951238681511</td>\n",
       "      <td>1835566849434059453</td>\n",
       "      <td>1</td>\n",
       "      <td>1.806829e+18</td>\n",
       "      <td>jewelry.pendant</td>\n",
       "      <td>0.0</td>\n",
       "      <td>88.90</td>\n",
       "      <td>1.515916e+18</td>\n",
       "      <td>f</td>\n",
       "      <td>red</td>\n",
       "      <td>gold</td>\n",
       "      <td>diamond</td>\n",
       "    </tr>\n",
       "    <tr>\n",
       "      <th>3</th>\n",
       "      <td>2018-12-02 21:30:19 UTC</td>\n",
       "      <td>1925740842841014667</td>\n",
       "      <td>1873936840742928865</td>\n",
       "      <td>1</td>\n",
       "      <td>1.806829e+18</td>\n",
       "      <td>jewelry.necklace</td>\n",
       "      <td>0.0</td>\n",
       "      <td>417.67</td>\n",
       "      <td>1.515916e+18</td>\n",
       "      <td>NaN</td>\n",
       "      <td>red</td>\n",
       "      <td>gold</td>\n",
       "      <td>amethyst</td>\n",
       "    </tr>\n",
       "    <tr>\n",
       "      <th>4</th>\n",
       "      <td>2018-12-02 22:09:34 UTC</td>\n",
       "      <td>1925760595336888995</td>\n",
       "      <td>1835566854827934449</td>\n",
       "      <td>1</td>\n",
       "      <td>1.806829e+18</td>\n",
       "      <td>jewelry.earring</td>\n",
       "      <td>1.0</td>\n",
       "      <td>102.27</td>\n",
       "      <td>1.515916e+18</td>\n",
       "      <td>NaN</td>\n",
       "      <td>red</td>\n",
       "      <td>gold</td>\n",
       "      <td>NaN</td>\n",
       "    </tr>\n",
       "  </tbody>\n",
       "</table>\n",
       "</div>"
      ],
      "text/plain": [
       "            Order_Datetime             Order_ID           Product_ID  \\\n",
       "0  2018-12-01 17:38:31 UTC  1924899396621697920  1806829193678291446   \n",
       "1  2018-12-02 13:53:42 UTC  1925511016616034733  1842214461889315556   \n",
       "2  2018-12-02 17:44:02 UTC  1925626951238681511  1835566849434059453   \n",
       "3  2018-12-02 21:30:19 UTC  1925740842841014667  1873936840742928865   \n",
       "4  2018-12-02 22:09:34 UTC  1925760595336888995  1835566854827934449   \n",
       "\n",
       "   SKU_Quantity   Category_ID          Category  Brand_ID  USD_Price  \\\n",
       "0             1  1.806829e+18               NaN       NaN     212.14   \n",
       "1             1  1.806829e+18   jewelry.pendant       1.0      54.66   \n",
       "2             1  1.806829e+18   jewelry.pendant       0.0      88.90   \n",
       "3             1  1.806829e+18  jewelry.necklace       0.0     417.67   \n",
       "4             1  1.806829e+18   jewelry.earring       1.0     102.27   \n",
       "\n",
       "        User_ID Target_Gender Main_Color Main_Metal  Main_Gem  \n",
       "0  1.515916e+18           NaN     yellow       gold       NaN  \n",
       "1  1.515916e+18             f      white       gold  sapphire  \n",
       "2  1.515916e+18             f        red       gold   diamond  \n",
       "3  1.515916e+18           NaN        red       gold  amethyst  \n",
       "4  1.515916e+18           NaN        red       gold       NaN  "
      ]
     },
     "execution_count": 7,
     "metadata": {},
     "output_type": "execute_result"
    }
   ],
   "source": [
    "# load data\n",
    "raw_data = pd.read_csv(\"Jewelry_Datasets/Jewelry_Dataset.csv\")\n",
    "\n",
    "raw_data.columns = [\n",
    "    \"Order_Datetime\",\n",
    "    \"Order_ID\",\n",
    "    \"Product_ID\",\n",
    "    \"SKU_Quantity\",\n",
    "    \"Category_ID\",\n",
    "    \"Category\",\n",
    "    \"Brand_ID\",\n",
    "    \"USD_Price\",\n",
    "    \"User_ID\",\n",
    "    \"Target_Gender\",\n",
    "    \"Main_Color\",\n",
    "    \"Main_Metal\",\n",
    "    \"Main_Gem\"\n",
    "]\n",
    "\n",
    "raw_data.head()"
   ]
  },
  {
   "cell_type": "code",
   "execution_count": 8,
   "id": "b08775c6-d9c1-4b72-8ec6-de6230c346af",
   "metadata": {},
   "outputs": [
    {
     "data": {
      "text/html": [
       "<div>\n",
       "<style scoped>\n",
       "    .dataframe tbody tr th:only-of-type {\n",
       "        vertical-align: middle;\n",
       "    }\n",
       "\n",
       "    .dataframe tbody tr th {\n",
       "        vertical-align: top;\n",
       "    }\n",
       "\n",
       "    .dataframe thead th {\n",
       "        text-align: right;\n",
       "    }\n",
       "</style>\n",
       "<table border=\"1\" class=\"dataframe\">\n",
       "  <thead>\n",
       "    <tr style=\"text-align: right;\">\n",
       "      <th></th>\n",
       "      <th>Order_ID</th>\n",
       "      <th>Product_ID</th>\n",
       "      <th>SKU_Quantity</th>\n",
       "      <th>Category_ID</th>\n",
       "      <th>Brand_ID</th>\n",
       "      <th>USD_Price</th>\n",
       "      <th>User_ID</th>\n",
       "    </tr>\n",
       "  </thead>\n",
       "  <tbody>\n",
       "    <tr>\n",
       "      <th>count</th>\n",
       "      <td>9.591000e+04</td>\n",
       "      <td>9.591000e+04</td>\n",
       "      <td>95910.0</td>\n",
       "      <td>9.055800e+04</td>\n",
       "      <td>9.112500e+04</td>\n",
       "      <td>90558.000000</td>\n",
       "      <td>9.055800e+04</td>\n",
       "    </tr>\n",
       "    <tr>\n",
       "      <th>mean</th>\n",
       "      <td>2.485191e+18</td>\n",
       "      <td>1.815970e+18</td>\n",
       "      <td>1.0</td>\n",
       "      <td>1.805947e+18</td>\n",
       "      <td>8.891036e+16</td>\n",
       "      <td>362.213017</td>\n",
       "      <td>1.512644e+18</td>\n",
       "    </tr>\n",
       "    <tr>\n",
       "      <th>std</th>\n",
       "      <td>1.934750e+17</td>\n",
       "      <td>2.136814e+17</td>\n",
       "      <td>0.0</td>\n",
       "      <td>2.083954e+16</td>\n",
       "      <td>3.559651e+17</td>\n",
       "      <td>444.157665</td>\n",
       "      <td>2.374776e+16</td>\n",
       "    </tr>\n",
       "    <tr>\n",
       "      <th>min</th>\n",
       "      <td>1.924899e+18</td>\n",
       "      <td>1.313551e+18</td>\n",
       "      <td>1.0</td>\n",
       "      <td>1.313678e+18</td>\n",
       "      <td>0.000000e+00</td>\n",
       "      <td>0.990000</td>\n",
       "      <td>1.313554e+18</td>\n",
       "    </tr>\n",
       "    <tr>\n",
       "      <th>25%</th>\n",
       "      <td>2.379732e+18</td>\n",
       "      <td>1.515966e+18</td>\n",
       "      <td>1.0</td>\n",
       "      <td>1.806829e+18</td>\n",
       "      <td>0.000000e+00</td>\n",
       "      <td>145.620000</td>\n",
       "      <td>1.515916e+18</td>\n",
       "    </tr>\n",
       "    <tr>\n",
       "      <th>50%</th>\n",
       "      <td>2.524282e+18</td>\n",
       "      <td>1.956664e+18</td>\n",
       "      <td>1.0</td>\n",
       "      <td>1.806829e+18</td>\n",
       "      <td>1.000000e+00</td>\n",
       "      <td>258.770000</td>\n",
       "      <td>1.515916e+18</td>\n",
       "    </tr>\n",
       "    <tr>\n",
       "      <th>75%</th>\n",
       "      <td>2.644347e+18</td>\n",
       "      <td>1.956664e+18</td>\n",
       "      <td>1.0</td>\n",
       "      <td>1.806829e+18</td>\n",
       "      <td>1.000000e+00</td>\n",
       "      <td>431.370000</td>\n",
       "      <td>1.515916e+18</td>\n",
       "    </tr>\n",
       "    <tr>\n",
       "      <th>max</th>\n",
       "      <td>2.719022e+18</td>\n",
       "      <td>2.541962e+18</td>\n",
       "      <td>1.0</td>\n",
       "      <td>1.806829e+18</td>\n",
       "      <td>1.550613e+18</td>\n",
       "      <td>34448.600000</td>\n",
       "      <td>1.554297e+18</td>\n",
       "    </tr>\n",
       "  </tbody>\n",
       "</table>\n",
       "</div>"
      ],
      "text/plain": [
       "           Order_ID    Product_ID  SKU_Quantity   Category_ID      Brand_ID  \\\n",
       "count  9.591000e+04  9.591000e+04       95910.0  9.055800e+04  9.112500e+04   \n",
       "mean   2.485191e+18  1.815970e+18           1.0  1.805947e+18  8.891036e+16   \n",
       "std    1.934750e+17  2.136814e+17           0.0  2.083954e+16  3.559651e+17   \n",
       "min    1.924899e+18  1.313551e+18           1.0  1.313678e+18  0.000000e+00   \n",
       "25%    2.379732e+18  1.515966e+18           1.0  1.806829e+18  0.000000e+00   \n",
       "50%    2.524282e+18  1.956664e+18           1.0  1.806829e+18  1.000000e+00   \n",
       "75%    2.644347e+18  1.956664e+18           1.0  1.806829e+18  1.000000e+00   \n",
       "max    2.719022e+18  2.541962e+18           1.0  1.806829e+18  1.550613e+18   \n",
       "\n",
       "          USD_Price       User_ID  \n",
       "count  90558.000000  9.055800e+04  \n",
       "mean     362.213017  1.512644e+18  \n",
       "std      444.157665  2.374776e+16  \n",
       "min        0.990000  1.313554e+18  \n",
       "25%      145.620000  1.515916e+18  \n",
       "50%      258.770000  1.515916e+18  \n",
       "75%      431.370000  1.515916e+18  \n",
       "max    34448.600000  1.554297e+18  "
      ]
     },
     "execution_count": 8,
     "metadata": {},
     "output_type": "execute_result"
    }
   ],
   "source": [
    "raw_data.describe(include = 'all')"
   ]
  },
  {
   "cell_type": "code",
   "execution_count": 9,
   "id": "cd45eb90-6504-4de1-a818-6ce3ae98513c",
   "metadata": {},
   "outputs": [
    {
     "data": {
      "text/plain": [
       "Order_Datetime        0\n",
       "Order_ID              0\n",
       "Product_ID            0\n",
       "SKU_Quantity          0\n",
       "Category_ID        5352\n",
       "Category           9933\n",
       "Brand_ID           4785\n",
       "USD_Price          5352\n",
       "User_ID            5352\n",
       "Target_Gender     48167\n",
       "Main_Color         7660\n",
       "Main_Metal         5462\n",
       "Main_Gem          34058\n",
       "dtype: int64"
      ]
     },
     "execution_count": 9,
     "metadata": {},
     "output_type": "execute_result"
    }
   ],
   "source": [
    "raw_data.isnull().sum()"
   ]
  },
  {
   "cell_type": "code",
   "execution_count": 10,
   "id": "bb9bbcc6-30a8-483c-b5bc-f1aa1001ff89",
   "metadata": {},
   "outputs": [
    {
     "data": {
      "text/plain": [
       "(95910, 13)"
      ]
     },
     "execution_count": 10,
     "metadata": {},
     "output_type": "execute_result"
    }
   ],
   "source": [
    "raw_data.shape"
   ]
  },
  {
   "cell_type": "markdown",
   "id": "3486114f-eefe-4cad-b0a9-8bca97dd3610",
   "metadata": {},
   "source": [
    "Check the number of duplicated values  "
   ]
  },
  {
   "cell_type": "code",
   "execution_count": 14,
   "id": "408a8a8c-31e3-402d-a649-8043a030be44",
   "metadata": {},
   "outputs": [],
   "source": [
    "number_of_duplicated_values = len(raw_data.loc[raw_data.duplicated()])"
   ]
  },
  {
   "cell_type": "code",
   "execution_count": 15,
   "id": "42162554-fbdb-46a8-8668-49a3d06fdf0a",
   "metadata": {},
   "outputs": [
    {
     "data": {
      "text/plain": [
       "2589"
      ]
     },
     "execution_count": 15,
     "metadata": {},
     "output_type": "execute_result"
    }
   ],
   "source": [
    "number_of_duplicated_values"
   ]
  },
  {
   "cell_type": "code",
   "execution_count": 17,
   "id": "933be9f8-b3da-48e6-a3da-7aa4eb5d1e36",
   "metadata": {},
   "outputs": [
    {
     "data": {
      "text/plain": [
       "(93321, 13)"
      ]
     },
     "execution_count": 17,
     "metadata": {},
     "output_type": "execute_result"
    }
   ],
   "source": [
    "# Filter away the duplicated code\n",
    "data = (raw_data.loc[~raw_data.duplicated()])\n",
    "data.shape"
   ]
  },
  {
   "cell_type": "code",
   "execution_count": 19,
   "id": "f9ce4067-db7c-4d08-829e-77c36e857e36",
   "metadata": {},
   "outputs": [
    {
     "data": {
      "text/plain": [
       "Order_Datetime        0\n",
       "Order_ID              0\n",
       "Product_ID            0\n",
       "SKU_Quantity          0\n",
       "Category_ID        5232\n",
       "Category           9837\n",
       "Brand_ID           4675\n",
       "USD_Price          5232\n",
       "User_ID            5232\n",
       "Target_Gender     46275\n",
       "Main_Color         7277\n",
       "Main_Metal         5339\n",
       "Main_Gem          32435\n",
       "dtype: int64"
      ]
     },
     "execution_count": 19,
     "metadata": {},
     "output_type": "execute_result"
    }
   ],
   "source": [
    "data.isnull().sum()"
   ]
  },
  {
   "cell_type": "code",
   "execution_count": 33,
   "id": "22acebd9-c974-4e51-ab27-fe97fa95e3de",
   "metadata": {},
   "outputs": [
    {
     "data": {
      "text/plain": [
       "array([nan, 'jewelry.pendant', 'jewelry.necklace', 'jewelry.earring',\n",
       "       'jewelry.ring', 'jewelry.brooch', 'jewelry.bracelet',\n",
       "       'electronics.clocks', 'jewelry.souvenir', '230.12', '202.36',\n",
       "       '1098.03', '321.78', '1128.62', '81.27', '34.25', '582.16',\n",
       "       '227.37', '234.22', '150.55', '131.82', '2123.15', '109.45',\n",
       "       '49.22', '472.47', '205.38', '2746.44', '51.08', '231.12', '76.97',\n",
       "       '3054.73', '184.90', '380.10', '357.49', '15.47', '135.33',\n",
       "       '719.75', '93.01', '177.95', 'jewelry.stud', '102.10', '595.75',\n",
       "       '469.56', '427.07', '53.62', '77.53', '1469.18', '355.27',\n",
       "       '184.89', '154.66', '300.58', '83.73', '271.19', '3294.21',\n",
       "       '278.04', '3626.26', '126.03', '283.52', '114.38', '89.04', '8.22',\n",
       "       '124.88', '89.73', '171.23', '136.93', '19.04', '158.77', '187.10',\n",
       "       '151.92', '1845.89', '87.23', '248.58', '596.48', '208.88',\n",
       "       '193.11', '169.84', '1447.68', '45.07', '136.85', '282.05',\n",
       "       '61.51', '210.21', '137.12', '147.81', '419.45', '825.27',\n",
       "       '300.16', '541.78', '308.74', '766.85', '410.82', '101.23', '2.88',\n",
       "       '1356.16', '13.42', '35.21', '134.79', '626.58', '13.70', '108.53',\n",
       "       '119.01', '7.40', '4.79', '153.97', '482.47', '427.36', '289.18',\n",
       "       '25.48', '1858.49', '21.70', '11.77', '198.89', '17.51', '574.66',\n",
       "       '1319.93', '393.05', '358.22', '2282.19', '114.93', '371.23',\n",
       "       '63.56', '88.77', '133.70', '117.81', '166.03', '130.41', '195.75',\n",
       "       '104.79', '228.59', '1686.93', '65.89', '242.19', '252.47',\n",
       "       '210.41', '363.42', '149.04', '157.95', '176.30', '160.96',\n",
       "       '316.30', '258.77', '268.36', '838.90', '250.96', '832.01',\n",
       "       '312.33', '318.71', '323.60', '205.34', '608.22', '343.84',\n",
       "       '598.22', '508.08', '245.67', '338.36', '75.21', '573.81',\n",
       "       '691.51', '476.68', '247.68', '286.71', '863.67', '236.58',\n",
       "       '644.66', '40.82', '1376.99', '1.23', '621.23', '3454.79', '65.62',\n",
       "       '59.73', '571.30', '70.96', '271.26', '958.84', '527.26', '271.16',\n",
       "       '284.66', '261.64', '493.01', '35.48', '446.16', '526.41',\n",
       "       '2517.08', '331.51', '312.88', '148.63', '451.21', '369.82',\n",
       "       '537.40', '231.51', '316.34', '451.10', '283.49', '787.67',\n",
       "       '131.92', '495.48', '5.48', '186.03', '484.49', '331.23', '133.85',\n",
       "       '323.70', '2635.07', '297.22', '0.00', '259.58', '108.33',\n",
       "       '4876.49', '308.08', '190.27', '916.44', '132.53', '1829.37',\n",
       "       '2208.90', '75.76', '278.01', '662.30', '253.77'], dtype=object)"
      ]
     },
     "execution_count": 33,
     "metadata": {},
     "output_type": "execute_result"
    }
   ],
   "source": [
    "data['Category'].unique()"
   ]
  },
  {
   "cell_type": "code",
   "execution_count": 36,
   "id": "a359638d-fdb7-48b3-848c-f05f73e1856e",
   "metadata": {},
   "outputs": [
    {
     "data": {
      "text/plain": [
       "array(['jewelry.pendant', 'jewelry.necklace', 'jewelry.earring',\n",
       "       'jewelry.ring', 'jewelry.brooch', 'jewelry.bracelet',\n",
       "       'jewelry.souvenir', 'jewelry.stud'], dtype=object)"
      ]
     },
     "execution_count": 36,
     "metadata": {},
     "output_type": "execute_result"
    }
   ],
   "source": [
    "data = data[data['Category'].str.contains(\"jewelry\", na=False)]\n",
    "data['Category'].unique()"
   ]
  },
  {
   "cell_type": "code",
   "execution_count": 37,
   "id": "c1187df3-a322-416b-af43-3224feee55c5",
   "metadata": {},
   "outputs": [
    {
     "data": {
      "text/plain": [
       "Order_Datetime        0\n",
       "Order_ID              0\n",
       "Product_ID            0\n",
       "SKU_Quantity          0\n",
       "Category_ID           0\n",
       "Category              0\n",
       "Brand_ID           3368\n",
       "USD_Price             0\n",
       "User_ID               0\n",
       "Target_Gender     34373\n",
       "Main_Color         1875\n",
       "Main_Metal           86\n",
       "Main_Gem          18084\n",
       "dtype: int64"
      ]
     },
     "execution_count": 37,
     "metadata": {},
     "output_type": "execute_result"
    }
   ],
   "source": [
    "data.isnull().sum()"
   ]
  },
  {
   "cell_type": "code",
   "execution_count": 38,
   "id": "bd730057-129f-4714-a27d-2a230a1d3675",
   "metadata": {},
   "outputs": [
    {
     "data": {
      "text/plain": [
       "Order_Datetime     0.000000\n",
       "Order_ID           0.000000\n",
       "Product_ID         0.000000\n",
       "SKU_Quantity       0.000000\n",
       "Category_ID        0.000000\n",
       "Category           0.000000\n",
       "Brand_ID           4.313138\n",
       "USD_Price          0.000000\n",
       "User_ID            0.000000\n",
       "Target_Gender     44.018851\n",
       "Main_Color         2.401168\n",
       "Main_Metal         0.110134\n",
       "Main_Gem          23.158784\n",
       "dtype: float64"
      ]
     },
     "execution_count": 38,
     "metadata": {},
     "output_type": "execute_result"
    }
   ],
   "source": []
  },
  {
   "cell_type": "code",
   "execution_count": null,
   "id": "80ae7091-c753-4364-b0d8-ab879de971be",
   "metadata": {},
   "outputs": [],
   "source": [
    "from sklearn.model_selection import train_test_split\n",
    "\n",
    "from sklearn.impute import SimpleImputer\n",
    "from sklearn.pipeline import Pipeline\n",
    "\n",
    "from sklearn.preprocessing import StandardScaler, OneHotEncoder, OrdinalEncoder, PowerTransformer\n",
    "from sklearn.compose import ColumnTransformer, TransformedTargetRegressor\n",
    "\n",
    "from sklearn.svm import SVR\n",
    "from sklearn.linear_model import LinearRegression\n",
    "from sklearn.ensemble import AdaBoostRegressor, ExtraTreesRegressor\n",
    "\n",
    "from catboost import CatBoostRegressor\n",
    "\n",
    "from sklearn.base import BaseEstimator, TransformerMixin"
   ]
  },
  {
   "cell_type": "code",
   "execution_count": null,
   "id": "926b1b04-ffe2-463e-b9ad-3613c9cb59b8",
   "metadata": {},
   "outputs": [],
   "source": [
    "# Categorical columns\n",
    "categorical_columns = [\"Category\", \"Target_Gender\", \"Main_Color\", \"Main_Gem\", \"Main_Metal\"]\n",
    "categorical_columns_index = [columns.index(c) for c in categorical_columns]\n",
    "\n",
    "categorical_columns_index"
   ]
  },
  {
   "cell_type": "code",
   "execution_count": null,
   "id": "c0352d41-4b69-49c7-863f-dcd4fa0bb438",
   "metadata": {},
   "outputs": [],
   "source": [
    "def pipeline(model, fill_missing = True, set_categorical = True, use_label_encoder = False):\n",
    "    first_encoder = ColumnTransformer(\n",
    "        transformers = [\n",
    "            (\"imputer\", SimpleImputer(strategy = \"most_frequent\"), column_indexes),\n",
    "        ],\n",
    "        remainder = \"passthrough\",\n",
    "        sparse_threshold = 0.\n",
    "    )\n",
    "\n",
    "    second_encoder = ColumnTransformer(\n",
    "        transformers = [\n",
    "            (\"one_hot\", OneHotEncoder(), categorical_columns_index),\n",
    "        ],\n",
    "        remainder = \"passthrough\",\n",
    "        sparse_threshold = 0.\n",
    "    )\n",
    "\n",
    "    third_encoder = ColumnTransformer(\n",
    "        transformers = [\n",
    "            (\"label\", OrdinalEncoder(), categorical_columns_index),\n",
    "        ],\n",
    "        remainder = \"passthrough\",\n",
    "        sparse_threshold = 0.\n",
    "    )\n",
    "\n",
    "    steps = []\n",
    "\n",
    "    if fill_missing:\n",
    "        steps.append((\"first_encoder\", first_encoder))\n",
    "    if use_label_encoder:\n",
    "        steps.append((\"third_encoder\", third_encoder))\n",
    "    if set_categorical:\n",
    "        steps.append((\"second_encoder\", second_encoder))\n",
    "\n",
    "    steps.append((\"model\", model))\n",
    "\n",
    "    model_pipeline = Pipeline(\n",
    "        steps = steps\n",
    "    )\n",
    "\n",
    "    return model_pipeline"
   ]
  },
  {
   "cell_type": "code",
   "execution_count": null,
   "id": "0701df11-b3e2-4e8c-9d72-400a8c7689b6",
   "metadata": {},
   "outputs": [],
   "source": [
    "# Instantiate mopdel pipelines\n",
    "cat_pipe = pipeline(\n",
    "    CatBoostRegressor(loss_function=\"RMSE\", bagging_temperature=.4, iterations=10000, learning_rate=0.1, one_hot_max_size=2),\n",
    "    fill_missing=False, set_categorical = False, use_label_encoder = True\n",
    ")\n",
    "\n",
    "linear_pipe = pipeline(\n",
    "    LinearRegression(),\n",
    "    fill_missing=True, set_categorical =True, use_label_encoder = False\n",
    ")\n",
    "\n",
    "extra_pipe = pipeline(\n",
    "    ExtraTreesRegressor(criterion=\"friedman_mse\", n_estimators = 1000, bootstrap=True),\n",
    "    fill_missing=True, set_categorical =True, use_label_encoder = False\n",
    ")\n",
    "\n",
    "ada_pipe = pipeline(\n",
    "    AdaBoostRegressor(loss=\"exponential\", n_estimators = 1000, learning_rate=.01),\n",
    "    fill_missing=True, set_categorical =True, use_label_encoder = False\n",
    ")\n",
    "\n",
    "# Transform target for all model pipelines\n",
    "cat_pipe = TransformedTargetRegressor(regressor = cat_pipe, transformer = PowerTransformer(method = \"box-cox\"))\n",
    "linear_pipe = TransformedTargetRegressor(regressor = linear_pipe, transformer = PowerTransformer(method = \"box-cox\"))\n",
    "extra_pipe = TransformedTargetRegressor(regressor = extra_pipe, transformer = PowerTransformer(method = \"box-cox\"))\n",
    "ada_pipe = TransformedTargetRegressor(regressor = ada_pipe, transformer = PowerTransformer(method = \"box-cox\"))\n",
    "\n",
    "cat_pipe.fit(X_train, y_train)\n",
    "linear_pipe.fit(X_train, y_train)\n",
    "extra_pipe.fit(X_train, y_train)\n",
    "ada_pipe.fit(X_train, y_train)"
   ]
  },
  {
   "cell_type": "code",
   "execution_count": null,
   "id": "2d54eff3-3dad-4e74-af11-8d8f687c6cea",
   "metadata": {},
   "outputs": [],
   "source": [
    "from sklearn.metrics import r2_score, mean_squared_error\n",
    "\n",
    "def root_mean_squared_error(y_true, y_pred):\n",
    "    value = np.sqrt(mean_squared_error(y_true, y_pred))\n",
    "    return value\n",
    "\n",
    "def generate_model_score(model, data, metric_name, metric):\n",
    "    X, y = data\n",
    "    pred = model.predict(X)\n",
    "    score = metric(y, pred)\n",
    "    return score\n",
    "\n",
    "def print_metrics(metric, train_score, test_score, factor=100, suffix=\"%\"):\n",
    "    print(f\"Train {metric} = {factor * train_score: .3f}{suffix}\")\n",
    "    print(f\"Test {metric} = {factor * test_score: .3f}{suffix}\")\n",
    "    print(f\"Generalization error = {factor * (train_score - test_score): .3f}{suffix}\")\n",
    "\n",
    "    return"
   ]
  },
  {
   "cell_type": "code",
   "execution_count": null,
   "id": "8701ee83-db37-4d6a-9b2b-019ad065622e",
   "metadata": {},
   "outputs": [],
   "source": [
    "def test_model(model, data, metric_name, metric):\n",
    "    train, test = data\n",
    "\n",
    "    if isinstance(metric_name, str):\n",
    "        train_score = generate_model_score(model, train, metric_name, metric)\n",
    "        test_score = generate_model_score(model, test, metric_name, metric)\n",
    "\n",
    "        factor = 1 if metric_name.lower() == \"rmse\" else 100\n",
    "        suffix = \"\" if metric_name.lower() == \"rmse\" else \"%\"\n",
    "\n",
    "        print_metrics(metric_name.lower().capitalize(), train_score, test_score, factor = factor, suffix = suffix)\n",
    "    else:\n",
    "        for (name, m) in zip(metric_name, metric):\n",
    "            train_score = generate_model_score(model, train, name, m)\n",
    "            test_score = generate_model_score(model, test, name, m)\n",
    "\n",
    "            factor = 1 if name.lower() == \"rmse\" else 100\n",
    "            suffix = \"\" if name.lower() == \"rmse\" else \"%\"\n",
    "\n",
    "            print_metrics(name.lower().capitalize(), train_score, test_score, factor = factor, suffix = suffix)\n",
    "            print(\"=\"*20 + \"\\n\")\n",
    "\n",
    "    return"
   ]
  },
  {
   "cell_type": "code",
   "execution_count": null,
   "id": "238e8591-b594-4e35-9bb5-66da94cad93a",
   "metadata": {},
   "outputs": [],
   "source": [
    "# Metrics\n",
    "metric_name = [\"R2\", \"RMSE\",]\n",
    "metric = [r2_score, root_mean_squared_error,]\n",
    "\n",
    "# Test Catboost pipeline\n",
    "test_model(cat_pipe, [[X_train, y_train], [X_test, y_test]], metric_name, metric)\n",
    "\n",
    "# Test linear regression pipeline\n",
    "test_model(linear_pipe, [[X_train, y_train], [X_test, y_test]], metric_name, metric)\n",
    "\n",
    "# Test ExtraTrees pipeline\n",
    "test_model(extra_pipe, [[X_train, y_train], [X_test, y_test]], metric_name, metric)\n",
    "\n",
    "# Test AdaBoost pipeline\n",
    "test_model(ada_pipe, [[X_train, y_train], [X_test, y_test]], metric_name, metric)"
   ]
  },
  {
   "cell_type": "code",
   "execution_count": null,
   "id": "4df6432b-a718-47ac-978d-77124c983a44",
   "metadata": {},
   "outputs": [],
   "source": [
    "# import needed libraries\n",
    "import mlflow\n",
    "import mlflow.sklearn\n",
    "from mlflow.models import infer_signature\n",
    "from datetime import datetime\n",
    "import warnings\n",
    "warnings.filterwarnings('ignore')"
   ]
  },
  {
   "cell_type": "code",
   "execution_count": null,
   "id": "c4bff898-36ff-47cc-b0de-a709d0b4ade4",
   "metadata": {},
   "outputs": [],
   "source": [
    "# Setup MLflow\n",
    "mlflow.set_tracking_uri(\"http://127.0.0.1:5000\")\n",
    "mlflow.set_experiment(\"jewelry_price_optimization\")\n",
    "\n",
    "def root_mean_squared_error(y_true, y_pred):\n",
    "    return np.sqrt(mean_squared_error(y_true, y_pred))\n",
    "\n",
    "def log_model_to_mlflow(model_pipeline, model_name, X_train, X_test, y_train, y_test):\n",
    "    \"\"\"\n",
    "    Log model, parameters, and metrics to MLflow\n",
    "    \"\"\"\n",
    "    with mlflow.start_run(run_name=f\"{model_name}_{datetime.now().strftime('%Y%m%d_%H%M%S')}\") as run:\n",
    "        # Get predictions\n",
    "        train_predictions = model_pipeline.predict(X_train)\n",
    "        test_predictions = model_pipeline.predict(X_test)\n",
    "        \n",
    "        # Calculate metrics\n",
    "        metrics = {\n",
    "            \"train_r2\": r2_score(y_train, train_predictions),\n",
    "            \"test_r2\": r2_score(y_test, test_predictions),\n",
    "            \"train_rmse\": root_mean_squared_error(y_train, train_predictions),\n",
    "            \"test_rmse\": root_mean_squared_error(y_test, test_predictions)\n",
    "        }\n",
    "        \n",
    "        # Log metrics\n",
    "        mlflow.log_metrics(metrics)\n",
    "        \n",
    "        # Try to log model parameters\n",
    "        try:\n",
    "            model = model_pipeline.regressor_.named_steps['model']\n",
    "            params = model.get_params()\n",
    "            mlflow.log_params(params)\n",
    "        except:\n",
    "            print(f\"Warning: Could not log parameters for {model_name}\")\n",
    "        \n",
    "        # Log the model\n",
    "        try:\n",
    "            signature = infer_signature(X_train, train_predictions)\n",
    "            mlflow.sklearn.log_model(\n",
    "                sk_model=model_pipeline,\n",
    "                artifact_path=f\"{model_name}_model\",\n",
    "                signature=signature\n",
    "            )\n",
    "        except Exception as e:\n",
    "            print(f\"Warning: Logging model without signature for {model_name}\")\n",
    "            mlflow.sklearn.log_model(\n",
    "                sk_model=model_pipeline,\n",
    "                artifact_path=f\"{model_name}_model\"\n",
    "            )\n",
    "        \n",
    "        print(f\"\\nLogged {model_name} model to MLflow\")\n",
    "        print(f\"Run ID: {run.info.run_id}\")\n",
    "        print(\"\\nMetrics:\")\n",
    "        for metric_name, value in metrics.items():\n",
    "            print(f\"{metric_name}: {value:.4f}\")\n",
    "\n",
    "# Log each model\n",
    "models = {\n",
    "    \"catboost\": cat_pipe,\n",
    "    \"linear_regression\": linear_pipe,\n",
    "    \"extra_trees\": extra_pipe,\n",
    "    \"adaboost\": ada_pipe\n",
    "}\n",
    "\n",
    "# Log all models\n",
    "for name, model in models.items():\n",
    "    print(f\"\\nLogging {name} model...\")\n",
    "    try:\n",
    "        log_model_to_mlflow(model, name, X_train, X_test, y_train, y_test)\n",
    "    except Exception as e:\n",
    "        print(f\"Error logging {name} model: {str(e)}\")"
   ]
  },
  {
   "cell_type": "code",
   "execution_count": null,
   "id": "bdcb8016-fad0-4c50-bac1-ab5aa22e26f9",
   "metadata": {},
   "outputs": [],
   "source": []
  }
 ],
 "metadata": {
  "kernelspec": {
   "display_name": "Python 3 (ipykernel)",
   "language": "python",
   "name": "python3"
  },
  "language_info": {
   "codemirror_mode": {
    "name": "ipython",
    "version": 3
   },
   "file_extension": ".py",
   "mimetype": "text/x-python",
   "name": "python",
   "nbconvert_exporter": "python",
   "pygments_lexer": "ipython3",
   "version": "3.11.7"
  }
 },
 "nbformat": 4,
 "nbformat_minor": 5
}
